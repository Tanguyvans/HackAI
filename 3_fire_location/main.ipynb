{
 "cells": [
  {
   "cell_type": "code",
   "execution_count": null,
   "metadata": {},
   "outputs": [],
   "source": [
    "!pip install roboflow\n",
    "\n",
    "from roboflow import Roboflow\n",
    "rf = Roboflow(api_key=\"cZglXTIXq27GGSzo0Caz\")\n",
    "project = rf.workspace(\"hackai-qkyza\").project(\"fire-degp6\")\n",
    "version = project.version(1)\n",
    "dataset = version.download(\"yolov9\")\n"
   ]
  }
 ],
 "metadata": {
  "language_info": {
   "name": "python"
  }
 },
 "nbformat": 4,
 "nbformat_minor": 2
}
