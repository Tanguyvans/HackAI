{
 "cells": [
  {
   "cell_type": "code",
   "execution_count": null,
   "metadata": {},
   "outputs": [],
   "source": [
    "from ultralytics import YOLO \n",
    "\n",
    "# Initialize model: you can choose yolo size [n, s, m, l, x]\n",
    "model = YOLO('yolov8s.pt')\n",
    "\n",
    "# Train model\n",
    "results = model.train(data='dataset.yaml', epochs=40, imgsz=640)\n",
    "\n",
    "# Evaluate model\n",
    "results = model.val()"
   ]
  },
  {
   "cell_type": "code",
   "execution_count": 2,
   "metadata": {},
   "outputs": [
    {
     "name": "stdout",
     "output_type": "stream",
     "text": [
      "\n",
      "image 1/1 c:\\Users\\maxgl\\maxglo\\HackIA\\HackIA\\datasets\\D-Fire\\images\\train\\WEB07733.jpg: 384x640 1 smoke, 4 fires, 200.6ms\n",
      "Speed: 0.0ms preprocess, 200.6ms inference, 15.6ms postprocess per image at shape (1, 3, 384, 640)\n"
     ]
    }
   ],
   "source": [
    "# Evaluate model on one image\n",
    "results = model('HackIA/datasets/D-Fire/images/train/WEB07733.jpg')\n",
    "for result in results:\n",
    "    boxes = result.boxes\n",
    "    masks = result.masks\n",
    "    result.show()"
   ]
  }
 ],
 "metadata": {
  "kernelspec": {
   "display_name": "Python 3",
   "language": "python",
   "name": "python3"
  },
  "language_info": {
   "codemirror_mode": {
    "name": "ipython",
    "version": 3
   },
   "file_extension": ".py",
   "mimetype": "text/x-python",
   "name": "python",
   "nbconvert_exporter": "python",
   "pygments_lexer": "ipython3",
   "version": "3.10.0"
  }
 },
 "nbformat": 4,
 "nbformat_minor": 2
}
