{
 "cells": [
  {
   "cell_type": "code",
   "execution_count": 14,
   "metadata": {},
   "outputs": [],
   "source": [
    "from Yoda import FaceRecognition\n",
    "import cv2\n",
    "import os"
   ]
  },
  {
   "cell_type": "code",
   "execution_count": 15,
   "metadata": {},
   "outputs": [],
   "source": [
    "faceRecognition_path = \"\""
   ]
  },
  {
   "cell_type": "code",
   "execution_count": 16,
   "metadata": {},
   "outputs": [
    {
     "name": "stderr",
     "output_type": "stream",
     "text": [
      "2024-05-12 20:48:21.427 Python[42438:950388] WARNING: AVCaptureDeviceTypeExternal is deprecated for Continuity Cameras. Please use AVCaptureDeviceTypeContinuityCamera and add NSCameraUseContinuityCameraDeviceType to your Info.plist.\n"
     ]
    }
   ],
   "source": [
    "video_capture = cv2.VideoCapture(0)"
   ]
  },
  {
   "cell_type": "code",
   "execution_count": 17,
   "metadata": {},
   "outputs": [
    {
     "name": "stdout",
     "output_type": "stream",
     "text": [
      "['tanguy', 'obama', 'me', 'biden', 'Will Ferell']\n"
     ]
    }
   ],
   "source": [
    "model = FaceRecognition()\n",
    "\n",
    "pic_names=os.listdir(faceRecognition_path + 'Personnes_autorisees')\n",
    "\n",
    "images_paths = [faceRecognition_path +'Personnes_autorisees'+'/'+ pic_name  for pic_name in pic_names]\n",
    "images = [model.load_image_file(images_path) for images_path in images_paths]\n",
    "known_face_encodings = [model.face_embeddings(image)[0] for image in images]\n",
    "known_face_names = [pic_name.split('.')[0] for pic_name in pic_names]\n",
    "\n",
    "print(known_face_names)"
   ]
  },
  {
   "cell_type": "code",
   "execution_count": 18,
   "metadata": {},
   "outputs": [],
   "source": [
    "face_locations = []\n",
    "face_encodings = []\n",
    "face_names = []\n",
    "process_this_frame = True"
   ]
  },
  {
   "cell_type": "code",
   "execution_count": 19,
   "metadata": {},
   "outputs": [
    {
     "name": "stdout",
     "output_type": "stream",
     "text": [
      "rectangles[[(163, 116) (270, 223)]]\n"
     ]
    },
    {
     "name": "stderr",
     "output_type": "stream",
     "text": [
      "2024-05-12 20:48:27.771 Python[42438:950388] WARNING: Secure coding is not enabled for restorable state! Enable secure coding by implementing NSApplicationDelegate.applicationSupportsSecureRestorableState: and returning YES.\n"
     ]
    },
    {
     "name": "stdout",
     "output_type": "stream",
     "text": [
      "rectangles[[(163, 116) (270, 223)]]\n",
      "rectangles[[(163, 116) (270, 223)]]\n",
      "rectangles[[(163, 116) (270, 223)]]\n",
      "rectangles[[(163, 116) (270, 223)]]\n",
      "rectangles[[(163, 116) (270, 223)]]\n",
      "rectangles[[(163, 116) (270, 223)]]\n",
      "rectangles[[(175, 116) (282, 223)]]\n",
      "rectangles[[(187, 116) (294, 223)]]\n",
      "rectangles[[(199, 116) (306, 223)]]\n",
      "rectangles[[(199, 116) (306, 223)]]\n",
      "rectangles[[(199, 116) (306, 223)]]\n",
      "rectangles[[(199, 116) (306, 223)]]\n",
      "rectangles[[(199, 116) (306, 223)]]\n",
      "rectangles[[(175, 116) (282, 223)]]\n",
      "rectangles[[(163, 116) (270, 223)]]\n",
      "rectangles[[(163, 116) (270, 223)]]\n",
      "rectangles[[(163, 116) (270, 223)]]\n",
      "rectangles[[(163, 116) (270, 223)]]\n",
      "rectangles[[(163, 116) (270, 223)]]\n",
      "rectangles[[(163, 116) (270, 223)]]\n",
      "rectangles[[(163, 116) (270, 223)]]\n",
      "rectangles[[(163, 116) (270, 223)]]\n",
      "rectangles[[(163, 116) (270, 223)]]\n",
      "rectangles[[(163, 116) (270, 223)]]\n",
      "rectangles[[(163, 116) (270, 223)]]\n",
      "rectangles[[(163, 116) (270, 223)]]\n",
      "rectangles[[(163, 116) (270, 223)]]\n",
      "rectangles[[(163, 116) (270, 223)]]\n",
      "rectangles[[(163, 116) (270, 223)]]\n",
      "rectangles[[(163, 116) (270, 223)]]\n",
      "rectangles[[(163, 116) (270, 223)]]\n",
      "rectangles[[(163, 116) (270, 223)]]\n",
      "rectangles[[(163, 116) (270, 223)]]\n",
      "rectangles[[(163, 116) (270, 223)]]\n"
     ]
    }
   ],
   "source": [
    "while True:\n",
    "    # Grab a single frame of video\n",
    "    ret, frame = video_capture.read()\n",
    "\n",
    "    # Resize frame of video to 1/4 size for faster face recognition processing\n",
    "    small_frame = cv2.resize(frame, (0, 0), fx=0.25, fy=0.25)\n",
    "\n",
    "    # Convert the image from BGR color (which OpenCV uses) to RGB color (which FaceRecognition uses)\n",
    "    rgb_small_frame = cv2.cvtColor(small_frame, cv2.COLOR_BGR2RGB)\n",
    "\n",
    "    # Only process every other frame of video to save time\n",
    "    if process_this_frame:\n",
    "        # Find all the faces and face encodings in the current frame of video\n",
    "        face_locations = model.find_face_locations(rgb_small_frame)\n",
    "\n",
    "        print(face_locations)\n",
    "\n",
    "        face_encodings = model.face_embeddings(rgb_small_frame, face_locations)\n",
    "\n",
    "        face_names = []\n",
    "        for face_encoding in face_encodings:\n",
    "            # See if the face is a match for the known face(s)\n",
    "            matches = model.compare_faces(known_face_encodings, face_encoding)\n",
    "            name = \"Unknown\"\n",
    "\n",
    "            # If a match was found in known_face_encodings, just use the first one.\n",
    "            if True in matches:\n",
    "                first_match_index = matches.index(True)\n",
    "                name = known_face_names[first_match_index]\n",
    "\n",
    "            face_names.append(name)\n",
    "\n",
    "    process_this_frame = not process_this_frame\n",
    "\n",
    "    # Display the results\n",
    "    for d, name in zip(face_locations, face_names):\n",
    "        # Scale back up face locations since the frame we detected in was scaled to 1/4 size\n",
    "        top = d.top() * 4\n",
    "        right = d.right() * 4\n",
    "        bottom = d.bottom() * 4\n",
    "        left = d.left() * 4\n",
    "\n",
    "        # Draw a box around the face\n",
    "        cv2.rectangle(frame, (left, top), (right, bottom), (0, 0, 255), 2)\n",
    "\n",
    "        # Draw a label with a name below the face\n",
    "        cv2.rectangle(frame, (left, bottom - 35), (right, bottom), (0, 0, 255), cv2.FILLED)\n",
    "        font = cv2.FONT_HERSHEY_DUPLEX\n",
    "        cv2.putText(frame, name, (left + 6, bottom - 6), font, 1.0, (255, 255, 255), 1)\n",
    "\n",
    "    # Display the resulting image\n",
    "    cv2.imshow('Video', frame)\n",
    "\n",
    "    # Hit 'q' on the keyboard to quit!\n",
    "    if cv2.waitKey(1) & 0xFF == ord('q'):\n",
    "        break"
   ]
  },
  {
   "cell_type": "code",
   "execution_count": null,
   "metadata": {},
   "outputs": [],
   "source": []
  }
 ],
 "metadata": {
  "kernelspec": {
   "display_name": "env",
   "language": "python",
   "name": "python3"
  },
  "language_info": {
   "codemirror_mode": {
    "name": "ipython",
    "version": 3
   },
   "file_extension": ".py",
   "mimetype": "text/x-python",
   "name": "python",
   "nbconvert_exporter": "python",
   "pygments_lexer": "ipython3",
   "version": "3.11.9"
  }
 },
 "nbformat": 4,
 "nbformat_minor": 2
}
